{
  "nbformat": 4,
  "nbformat_minor": 0,
  "metadata": {
    "colab": {
      "name": "ActS4.ipynb",
      "provenance": []
    },
    "kernelspec": {
      "name": "python3",
      "display_name": "Python 3"
    }
  },
  "cells": [
    {
      "cell_type": "markdown",
      "metadata": {
        "id": "GhYvprfjgM6K"
      },
      "source": [
        "Determinar si una persona es mayor de edad solicitando el dato al usuario"
      ]
    },
    {
      "cell_type": "code",
      "metadata": {
        "id": "AUOH5cmHgI8a"
      },
      "source": [
        ""
      ],
      "execution_count": null,
      "outputs": []
    },
    {
      "cell_type": "markdown",
      "metadata": {
        "id": "Sxz8w-TBgRff"
      },
      "source": [
        "Determinar si un estudiante aprueba o reprueba el curso con base en su nota definitiva, teniendo en cuenta que la nota mínima aprobatoria es de 3.5"
      ]
    },
    {
      "cell_type": "code",
      "metadata": {
        "id": "wdH8diYsgVib"
      },
      "source": [
        ""
      ],
      "execution_count": null,
      "outputs": []
    },
    {
      "cell_type": "markdown",
      "metadata": {
        "id": "rScrwDkTgWmI"
      },
      "source": [
        "Con base en la percepción del clima, generar un algoritmo que advierta a los usuarios si deben o no utilizar paraguas."
      ]
    },
    {
      "cell_type": "code",
      "metadata": {
        "id": "HcDrdn3GgbgH"
      },
      "source": [
        ""
      ],
      "execution_count": null,
      "outputs": []
    },
    {
      "cell_type": "markdown",
      "metadata": {
        "id": "5uXd6mtlgcKT"
      },
      "source": [
        "Dados dos números diferentes cualesquiera determinar cuál de ellos es el mayor."
      ]
    },
    {
      "cell_type": "code",
      "metadata": {
        "id": "42P1ka8pgV_9"
      },
      "source": [
        ""
      ],
      "execution_count": null,
      "outputs": []
    },
    {
      "cell_type": "markdown",
      "metadata": {
        "id": "Foj61fN9gjuT"
      },
      "source": [
        "El costo de un pasaje de bus es de 2.200 pesos, dada la cantidad de dinero con que cuento en el bolsillo, determinar si puedo o no tomar el bus.- (NO ES PERMITIDO DECIRLE AL CONDUCTOR ‘SOLO TENGO ESTO’)."
      ]
    },
    {
      "cell_type": "code",
      "metadata": {
        "id": "6Fdw8_ARgp85"
      },
      "source": [
        ""
      ],
      "execution_count": null,
      "outputs": []
    },
    {
      "cell_type": "markdown",
      "metadata": {
        "id": "Au75mD5zgqji"
      },
      "source": [
        "Una empresa quiere comprar varias piezas de la misma clase a una fábrica de refacciones. La empresa, dependiendo del monto total de la compra, decidirá qué hacer para pagar al fabricante:\n",
        "\n",
        "Si el monto total de la compra excede de 500.000 la empresa tendrá la capacidad de invertir de su propio dinero un 55% del monto de la compra, pedir prestado al banco un 30% y el resto lo pagará solicitando un crédito al fabricante.\n",
        "Si el monto total de la compra no excede de 500 000 la empresa tendrá capacidad de invertir de su propio dinero un 70% y el restante 30% lo pagará solicitando crédito al fabricante. El fabricante cobra por concepto de intereses un 20% sobre la cantidad que se le pague a crédito."
      ]
    },
    {
      "cell_type": "code",
      "metadata": {
        "id": "tr_oZWuLgwxH"
      },
      "source": [
        ""
      ],
      "execution_count": null,
      "outputs": []
    },
    {
      "cell_type": "markdown",
      "metadata": {
        "id": "DAPNvs_ng1f0"
      },
      "source": [
        "Se desea agregar una letra para representar la calificación de los alumnos, las calificaciones son notas entre 1 y 10; use los siguientes parámetros: A para calificaciones mayores o iguales a 9, B para calificaciones mayores o iguales a 8, C para calificaciones mayores o iguales a 7, D para calificaciones mayores o iguales a 6, F para todas las demás calificaciones."
      ]
    }
  ]
}