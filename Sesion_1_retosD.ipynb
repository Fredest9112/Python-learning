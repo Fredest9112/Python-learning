{
  "nbformat": 4,
  "nbformat_minor": 0,
  "metadata": {
    "kernelspec": {
      "name": "python3",
      "display_name": "Python 3",
      "language": "python"
    },
    "language_info": {
      "name": "python",
      "version": "3.7.8",
      "mimetype": "text/x-python",
      "codemirror_mode": {
        "name": "ipython",
        "version": 3
      },
      "pygments_lexer": "ipython3",
      "nbconvert_exporter": "python",
      "file_extension": ".py"
    },
    "colab": {
      "name": "Sesion_1_retosD.ipynb",
      "provenance": [],
      "collapsed_sections": []
    }
  },
  "cells": [
    {
      "cell_type": "markdown",
      "metadata": {
        "id": "gGnUrBTjxJB0",
        "colab_type": "text"
      },
      "source": [
        "## Retos del día\n",
        "\n",
        "Los retos del día están diseñados para permitirte practicar los conceptos aprendidos y empezar a explorar el lenguaje de programación. \n",
        "\n",
        "Recuerda tomar el tiempo en analizar y planear la solución antes de empezar a programar!\n",
        "\n",
        "### Reto del día 1\n",
        "\n",
        "Escribe el código que lea las cuatro notas de un estudiante (Cada nota en la escala entre 1 y 5) e imprima el promedio de las mismas."
      ]
    },
    {
      "cell_type": "code",
      "metadata": {
        "trusted": true,
        "id": "MsZOdPcWxJB2",
        "colab_type": "code",
        "colab": {},
        "outputId": "91bf6128-c795-444f-eb40-b773efa44614"
      },
      "source": [
        "def reto1(x,y,z,w):\n",
        "    print(\"Digite la primera nota\")\n",
        "    x = float(input())\n",
        "    print(\"Digite la segunda nota\")\n",
        "    y = float(input())\n",
        "    print(\"Digite la tercera nota\")\n",
        "    z = float(input())\n",
        "    print(\"Digite la cuarta nota\")\n",
        "    w = float(input())\n",
        "    return (x+y+z+w)/4 # Reemplaza 0 por la variable que tiene el resultado\n",
        "\n",
        "reto1(3,3,3,3)"
      ],
      "execution_count": null,
      "outputs": [
        {
          "output_type": "stream",
          "text": [
            "Digite la primera nota\n",
            "3\n",
            "Digite la segunda nota\n",
            "4\n",
            "Digite la tercera nota\n",
            "3\n",
            "Digite la cuarta nota\n",
            "4\n"
          ],
          "name": "stdout"
        },
        {
          "output_type": "execute_result",
          "data": {
            "text/plain": [
              "3.5"
            ]
          },
          "metadata": {
            "tags": []
          },
          "execution_count": 1
        }
      ]
    },
    {
      "cell_type": "markdown",
      "metadata": {
        "id": "0j5prtuoxJCA",
        "colab_type": "text"
      },
      "source": [
        "### Reto del día 2\n",
        "\n",
        "Escribe el código para leer un número entero x e imprime el número de dígitos de x. Por ejemplo, 345 tiene 3 dígitos y 4000 tiene 4 dígitos."
      ]
    },
    {
      "cell_type": "code",
      "metadata": {
        "trusted": true,
        "id": "3SNPBp8xxJCB",
        "colab_type": "code",
        "colab": {
          "base_uri": "https://localhost:8080/",
          "height": 34
        },
        "outputId": "09594a13-a4e0-453c-b178-5ef56a000f52"
      },
      "source": [
        "def reto2(b):\n",
        "  con = 0\n",
        "  while b!=0:\n",
        "    b = b//10\n",
        "    con = con + 1\n",
        "  return con # Reemplaza 0 por la variable que tiene el resultado\n",
        "\n",
        "reto2(1234)"
      ],
      "execution_count": 36,
      "outputs": [
        {
          "output_type": "execute_result",
          "data": {
            "text/plain": [
              "6"
            ]
          },
          "metadata": {
            "tags": []
          },
          "execution_count": 36
        }
      ]
    },
    {
      "cell_type": "markdown",
      "metadata": {
        "id": "zpPP57PWxJCI",
        "colab_type": "text"
      },
      "source": [
        "### Reto del día 3\n",
        "\n",
        "Escribe el código para leer un número entero e imprime el último dígito."
      ]
    },
    {
      "cell_type": "code",
      "metadata": {
        "trusted": true,
        "id": "Hp8MBvJIxJCK",
        "colab_type": "code",
        "colab": {}
      },
      "source": [
        "def reto3(x, a):\n",
        "    print(\"Digite un numero\")\n",
        "    x = float(input())\n",
        "    a = x % 10\n",
        "    \n",
        "    return a #Reemplaza 0 por la variable que tiene el resultado\n",
        "\n"
      ],
      "execution_count": null,
      "outputs": []
    },
    {
      "cell_type": "markdown",
      "metadata": {
        "id": "m7X7QZX7xJCR",
        "colab_type": "text"
      },
      "source": [
        "### Reto del día 4\n",
        "\n",
        "Escribe el código para leer dos números enteros(x, y) de dos dígitos y determina a cuánto es igual la suma de todos los dígitos. Imprime el resultado.\n"
      ]
    },
    {
      "cell_type": "code",
      "metadata": {
        "trusted": true,
        "id": "mfJ49Mw7xJCS",
        "colab_type": "code",
        "colab": {
          "base_uri": "https://localhost:8080/",
          "height": 102
        },
        "outputId": "0376c765-e601-48a1-f851-80ab674ff90b"
      },
      "source": [
        "print(\"Digite el primer numero\")\n",
        "x = float(input())\n",
        "decx = x//10\n",
        "unx = x%10\n",
        "print(\"Digite el segundo numero\")\n",
        "y = float(input())\n",
        "decy = y//10\n",
        "uny = y%10\n",
        "print(decx+unx+decy+uny) # Reemplaza 0 por la variable que tiene el resultado\n",
        "\n"
      ],
      "execution_count": 20,
      "outputs": [
        {
          "output_type": "stream",
          "text": [
            "Digite el primer numero\n",
            "12\n",
            "Digite el segundo numero\n",
            "23\n",
            "8.0\n"
          ],
          "name": "stdout"
        }
      ]
    },
    {
      "cell_type": "code",
      "metadata": {
        "trusted": true,
        "id": "JKH1eSRuxJCY",
        "colab_type": "code",
        "colab": {}
      },
      "source": [
        ""
      ],
      "execution_count": null,
      "outputs": []
    },
    {
      "cell_type": "code",
      "metadata": {
        "trusted": true,
        "id": "IoV0sfG4xJCe",
        "colab_type": "code",
        "colab": {}
      },
      "source": [
        ""
      ],
      "execution_count": null,
      "outputs": []
    }
  ]
}