{
  "nbformat": 4,
  "nbformat_minor": 0,
  "metadata": {
    "colab": {
      "name": "entradadatos.ipynb",
      "provenance": []
    },
    "kernelspec": {
      "name": "python3",
      "display_name": "Python 3"
    }
  },
  "cells": [
    {
      "cell_type": "code",
      "metadata": {
        "id": "ZQUe6ETLqO0k",
        "colab_type": "code",
        "colab": {
          "base_uri": "https://localhost:8080/",
          "height": 156
        },
        "outputId": "b8a3c291-90cb-4fe8-8827-431dd41e0d49"
      },
      "source": [
        "palabra = input(\"Introduce una palabra: \")\n",
        "entero = int(input(\"Introduce un número entero: \"))\n",
        "flotante = float(input(\"Introduce un número decimal: \"))\n",
        "complejo = complex(input(\"Introduce un número complejo: \"))\n",
        "print (\"String \", palabra)\n",
        "print (\"Entero \", entero)\n",
        "print (\"Flotante \", flotante)\n",
        "print (\"Complejo \", complejo)"
      ],
      "execution_count": null,
      "outputs": [
        {
          "output_type": "stream",
          "text": [
            "Introduce una palabra: carmen\n",
            "Introduce un número entero: 4\n",
            "Introduce un número decimal: 4.5\n",
            "Introduce un número complejo: 4+5j\n",
            "String  carmen\n",
            "Entero  4\n",
            "Flotante  4.5\n",
            "Complejo  (4+5j)\n"
          ],
          "name": "stdout"
        }
      ]
    }
  ]
}