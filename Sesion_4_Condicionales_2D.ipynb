{
  "nbformat": 4,
  "nbformat_minor": 0,
  "metadata": {
    "kernelspec": {
      "display_name": "Python 3",
      "language": "python",
      "name": "python3"
    },
    "language_info": {
      "codemirror_mode": {
        "name": "ipython",
        "version": 3
      },
      "file_extension": ".py",
      "mimetype": "text/x-python",
      "name": "python",
      "nbconvert_exporter": "python",
      "pygments_lexer": "ipython3",
      "version": "3.8.3"
    },
    "colab": {
      "name": "Sesion_4_Condicionales_2.ipynb",
      "provenance": [],
      "collapsed_sections": []
    }
  },
  "cells": [
    {
      "cell_type": "markdown",
      "metadata": {
        "id": "7zEgq3JDAOvX",
        "colab_type": "text"
      },
      "source": [
        "# Fundamentos de Programación con Python\n",
        "\n",
        "Estos Notebooks fueron creados por profesores y diseñadores de contenido de la Universidad del Norte, en Barranquilla - Colombia.\n",
        "\n",
        "Todos estos materiales cuentan con una licencia <b>Creative Commons</b> de libre uso con atribución.\n",
        "\n",
        "## Condicionales Múltiples y Anidados\n",
        "\n",
        "### Si-Sino-Finsi\n",
        "Recuerda que los condicionales múltiples y anidados nos permiten evaluar múltiples casos. El condicional Si-Sino-Si-Finsi tiene la siguiente estructura:\n",
        "\n",
        "    Si (condición) Entonces\n",
        "        instrucción(es)\n",
        "    Sino Si\n",
        "        instrucción(es)\n",
        "    Fin Si\n",
        "\n",
        "En Python, esto se escribe un poco diferente y la estructura general depende de las tabulaciónes. Por ejemplo:"
      ]
    },
    {
      "cell_type": "code",
      "metadata": {
        "id": "criNbL_JAOva",
        "colab_type": "code",
        "colab": {},
        "outputId": "e2f8dfd7-34e9-4fb7-8dde-9e889f165fe1"
      },
      "source": [
        "x = int(input(\"Por favor ingresa un número: \"))\n",
        "if x < 0:\n",
        "    print('X es Negativo')\n",
        "elif x > 0:\n",
        "    print('X es positivo')\n",
        "elif x == 0:\n",
        "    print('X es cero')"
      ],
      "execution_count": null,
      "outputs": [
        {
          "output_type": "stream",
          "text": [
            "Por favor ingresa un número:  7\n"
          ],
          "name": "stdin"
        },
        {
          "output_type": "stream",
          "text": [
            "X es positivo\n"
          ],
          "name": "stdout"
        }
      ]
    },
    {
      "cell_type": "markdown",
      "metadata": {
        "id": "4Luiexk8AOvj",
        "colab_type": "text"
      },
      "source": [
        "\n",
        "\n"
      ]
    },
    {
      "cell_type": "markdown",
      "metadata": {
        "id": "jY6UooYZAOvl",
        "colab_type": "text"
      },
      "source": [
        "### Actividad 1\n",
        "\n",
        "La luz de un semáforo nos indica las siguientes opciones: \n",
        "\n",
        "1.  Verde = Siga\n",
        "2.  Amarillo = Precaución\n",
        "3.  Rojo = Pare\n",
        "\n",
        "Escribamos el código para analizar esta situación utilizando el condicional Si-Sino-Si-Finsi."
      ]
    },
    {
      "cell_type": "code",
      "metadata": {
        "id": "5yKoRdO1AOvn",
        "colab_type": "code",
        "colab": {
          "base_uri": "https://localhost:8080/",
          "height": 35
        },
        "outputId": "0705194b-2f0a-40a7-83fd-e0a65e697568"
      },
      "source": [
        "def luzSem(color):\n",
        "  if color.upper() == \"VERDE\":\n",
        "    return \"Siga\"\n",
        "  elif color.upper() == \"AMARILLO\":\n",
        "    return \"Precaucion\"\n",
        "  elif color.upper() == \"ROJO\":\n",
        "    return \"Pare\"\n",
        "  else:\n",
        "    return \"El color ingresado debe ser verde, amarillo o azul\"\n",
        "luzSem(\"yo\")"
      ],
      "execution_count": null,
      "outputs": [
        {
          "output_type": "execute_result",
          "data": {
            "application/vnd.google.colaboratory.intrinsic+json": {
              "type": "string"
            },
            "text/plain": [
              "'El color ingresado no es válido'"
            ]
          },
          "metadata": {
            "tags": []
          },
          "execution_count": 4
        }
      ]
    },
    {
      "cell_type": "markdown",
      "metadata": {
        "id": "4OeWAnfZAOvu",
        "colab_type": "text"
      },
      "source": [
        "### Actividad 2\n",
        "\n",
        "Ahora, usando el mismo código de la Actividad 1, vamos a utilizar condiciones anidadas. Si tenemos una variable booleana que nos indica si hay peaton o no (hayPeaton), las condiciones cambian así: \n",
        "\n",
        "1.  Verde -------- Si hay peaton - Pare, Sino - Siga\n",
        "2.  Amarillo ----------- Si hay peaton - Pare, Sino - Precaución\n",
        "3.  Rojo = Pare\n",
        "\n",
        "Escribamos el código para analizar esta situación."
      ]
    },
    {
      "cell_type": "code",
      "metadata": {
        "id": "OxHRaEJTAOvv",
        "colab_type": "code",
        "colab": {
          "base_uri": "https://localhost:8080/",
          "height": 35
        },
        "outputId": "973b0ec1-9024-4340-a467-a30ff0e9f74c"
      },
      "source": [
        "def luzSem(peaton,color):\n",
        "  if color.upper() == \"VERDE\":\n",
        "    if peaton > 0:\n",
        "      return \"Pare\"\n",
        "    else:\n",
        "      return \"Siga\"\n",
        "  elif color.upper() == \"AMARILLO\":\n",
        "    if peaton > 0:\n",
        "      return \"Pare\"\n",
        "    else:\n",
        "      return \"Siga\"\n",
        "    return \"Precaucion\"\n",
        "  elif color.upper() == \"ROJO\":\n",
        "    return \"Pare\"\n",
        "  else:\n",
        "    return \"El color ingresado debe ser verde, amarillo o azul\"\n",
        "luzSem(1, \"verde\")"
      ],
      "execution_count": 16,
      "outputs": [
        {
          "output_type": "execute_result",
          "data": {
            "application/vnd.google.colaboratory.intrinsic+json": {
              "type": "string"
            },
            "text/plain": [
              "'Pare'"
            ]
          },
          "metadata": {
            "tags": []
          },
          "execution_count": 16
        }
      ]
    },
    {
      "cell_type": "markdown",
      "metadata": {
        "id": "MbkpKJ3TAOv2",
        "colab_type": "text"
      },
      "source": [
        "### Actividad 3\n",
        "\n",
        "Vamos a pensar en un menú de opciones y la ejecución de la opción seleccionada. \n",
        "\n",
        "Para dos numeros a y b, el usuario va a seleccionar una opcion: 1 para sumar, 2 para multiplicar, 3 para restar (a-b) y 4 para dividir (a/b) y retornar el resultado de la operación indicada."
      ]
    },
    {
      "cell_type": "code",
      "metadata": {
        "id": "g2YWhGXWAOv3",
        "colab_type": "code",
        "colab": {
          "base_uri": "https://localhost:8080/",
          "height": 34
        },
        "outputId": "4f156294-f291-4550-a04e-4ca37805b592"
      },
      "source": [
        "def opeNums(a,b,opc):\n",
        "  if opc == 1:\n",
        "    return a+b\n",
        "  if opc == 2:\n",
        "    return a*b\n",
        "  if opc == 3:\n",
        "    return a-b\n",
        "  if opc == 4:\n",
        "    return a/b\n",
        "opeNums(4,5,4)\n"
      ],
      "execution_count": 20,
      "outputs": [
        {
          "output_type": "execute_result",
          "data": {
            "text/plain": [
              "0.8"
            ]
          },
          "metadata": {
            "tags": []
          },
          "execution_count": 20
        }
      ]
    },
    {
      "cell_type": "markdown",
      "metadata": {
        "id": "RbN34SP4AOwB",
        "colab_type": "text"
      },
      "source": [
        "## Reto de la semana\n",
        "\n",
        "Esta semana, el objetivo es diseñar un menú con las siguientes 4 funciones:\n",
        "\n",
        "1.  Leer un número de 4 dígitos, mostrar el dígito mayor e informar si es par o impar.\n",
        "2.  Leer dos números de 3 dígitos cada uno, formar un tercer número con el mayor del primero y el menor del segundo.\n",
        "3.  Leer un número de 3 dígitos y formar el mayor número posible con sus cifras.\n",
        "4. Salir\n",
        "\n",
        "## Retos del día\n",
        "\n",
        "Consideraciones para los retos del día:\n",
        "\n",
        "    1. El archivo con los retos del día puede ser descargado en la página del curso. Vayan a la sesión indiciada y busquen la opción Retos del día.\n",
        "    2. El archivo lo deben subir a Mybinder para poder manipularlo\n",
        "    3. Deben guardar el archivo a subir como retos.ipnyb - OJO, sino tiene este nombre no ejecutará y no podrá revisarse automáticamente"
      ]
    }
  ]
}