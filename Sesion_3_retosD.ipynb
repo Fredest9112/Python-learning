{
  "nbformat": 4,
  "nbformat_minor": 0,
  "metadata": {
    "kernelspec": {
      "display_name": "Python 3",
      "language": "python",
      "name": "python3"
    },
    "language_info": {
      "codemirror_mode": {
        "name": "ipython",
        "version": 3
      },
      "file_extension": ".py",
      "mimetype": "text/x-python",
      "name": "python",
      "nbconvert_exporter": "python",
      "pygments_lexer": "ipython3",
      "version": "3.8.3"
    },
    "colab": {
      "name": "Sesion_3_retos-.ipynb",
      "provenance": [],
      "collapsed_sections": []
    }
  },
  "cells": [
    {
      "cell_type": "markdown",
      "metadata": {
        "id": "rtkIK2KFwgz2",
        "colab_type": "text"
      },
      "source": [
        "## Retos del día\n",
        "\n",
        "Los retos del día están diseñados para permitirte practicar los conceptos aprendidos y empezar a explorar el lenguaje de programación. \n",
        "\n",
        "Recuerda tomar el tiempo en analizar y planear la solución antes de empezar a programar!\n",
        "\n",
        "### Reto del día 1\n",
        "\n",
        "Pedro y Jesús son dos hermanos, hijos únicos de Simón, y quienes tienen acceso a una bóveda en un exclusivo banco. El dueño original de esta bóveda es su padre, y en su testamento ha especificado las siguientes condiciones para que el banco le permita acceder a sus hijos al contenido de dicha bóveda. Las condiciones son las siguientes:\n",
        "\n",
        "    a. Juan debe ser mayor de 35 años, o Pedro debe ser menor de 50 años.\n",
        "    b. La suma de sus edades debe ser un número par.\n",
        "    c. Simón debe tener mínimo 1 nieto.\n",
        "\n",
        "Construye un algoritmo que lea la edad de Juan, la edad de Pedro y el número de nietos y calcule, usando condicionales, si tienen acceso (SI) o no (NO) a la bóveda."
      ]
    },
    {
      "cell_type": "code",
      "metadata": {
        "id": "tyk9N_tOwgz4",
        "colab_type": "code",
        "colab": {
          "base_uri": "https://localhost:8080/",
          "height": 35
        },
        "outputId": "41a9fb0e-2e7a-48ff-9840-77bd0b32b7bf"
      },
      "source": [
        "def reto1(edadJuan, edadPedro,nietos):\n",
        "   # Escribe tu código aquí. Manten la indentación!!\n",
        "    if edadJuan>35 or edadPedro<50:\n",
        "      if (edadJuan+edadPedro)%2==0:\n",
        "        if nietos!=0:\n",
        "          return \"SI\"\n",
        "        return \"NO\"\n",
        "      return \"NO\"\n",
        "    return \"NO\" # Reemplaza 0 por la variable que tiene el resultado\n",
        "\n",
        "reto1(36, 45, 2)"
      ],
      "execution_count": 8,
      "outputs": [
        {
          "output_type": "execute_result",
          "data": {
            "application/vnd.google.colaboratory.intrinsic+json": {
              "type": "string"
            },
            "text/plain": [
              "'NO'"
            ]
          },
          "metadata": {
            "tags": []
          },
          "execution_count": 8
        }
      ]
    },
    {
      "cell_type": "markdown",
      "metadata": {
        "id": "uIYedeJAwgz8",
        "colab_type": "text"
      },
      "source": [
        "### Reto del día 2\n",
        "\n",
        "El incremento salarial de la compañía Y se determina de acuerdo al desempeño de cada empleado. \n",
        "\n",
        "Cada jefe de área le asigna una calificación entre 1 y 25 a cada empleado por dos factor: culminación de proyectos y trabajo en equipo. El desempeño es calculado sumando el resultado de ambos factores y determinando el porcentaje total.\n",
        "\n",
        "Los empleados que obtengan más del 60% de desempeño y al menos 12 puntos en cada factor obtendrán un incremento de 5%. El resto de empleados obtendran 2.5%.\n",
        "\n",
        "Escribe el código que permita, a partir del valor de los factores ingresados por el gerente e imprima el porcentaje a incrementar (0.025 = 2.5% y 0.05 = 5%)."
      ]
    },
    {
      "cell_type": "code",
      "metadata": {
        "id": "o6b3ePnAwgz9",
        "colab_type": "code",
        "colab": {
          "base_uri": "https://localhost:8080/",
          "height": 34
        },
        "outputId": "af560c34-57d3-49c0-ef5b-f48639e7e59c"
      },
      "source": [
        "def reto2(factorProyecto, factorEquipo):\n",
        "    # Escribe tu código aquí. Manten la indentación!!\n",
        "    puntaje = (100*(factorProyecto + factorEquipo))/50\n",
        "    if puntaje > 60 and factorEquipo >= 12 and factorProyecto >= 12:\n",
        "      return 0.05\n",
        "    else:\n",
        "      return 0.025 # Reemplaza 0 por la variable que tiene el resultado\n",
        "\n",
        "reto2(14,14) "
      ],
      "execution_count": null,
      "outputs": [
        {
          "output_type": "execute_result",
          "data": {
            "text/plain": [
              "0.025"
            ]
          },
          "metadata": {
            "tags": []
          },
          "execution_count": 6
        }
      ]
    },
    {
      "cell_type": "markdown",
      "metadata": {
        "id": "pBtKNJR6wg0A",
        "colab_type": "text"
      },
      "source": [
        "### Reto del día 3 \n",
        "\n",
        "Escribe un algoritmo que dado un número del 1 al 10 determine si es par o impar."
      ]
    },
    {
      "cell_type": "code",
      "metadata": {
        "id": "wRWJwJ14wg0A",
        "colab_type": "code",
        "colab": {
          "base_uri": "https://localhost:8080/",
          "height": 35
        },
        "outputId": "935f9a22-e9e8-4bd2-90d8-25d5aac794f2"
      },
      "source": [
        "def reto3(x):\n",
        "    # Escribe tu código aquí. Manten la identación!!\n",
        "    if x%2==0:\n",
        "      return \"Par\"\n",
        "    else:\n",
        "      return \"Impar\" # Reemplaza 0 por la variable que tiene el resultado\n",
        "reto3(5) "
      ],
      "execution_count": null,
      "outputs": [
        {
          "output_type": "execute_result",
          "data": {
            "application/vnd.google.colaboratory.intrinsic+json": {
              "type": "string"
            },
            "text/plain": [
              "'Impar'"
            ]
          },
          "metadata": {
            "tags": []
          },
          "execution_count": 7
        }
      ]
    }
  ]
}