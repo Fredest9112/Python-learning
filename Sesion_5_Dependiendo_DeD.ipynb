{
  "nbformat": 4,
  "nbformat_minor": 0,
  "metadata": {
    "kernelspec": {
      "display_name": "Python 3",
      "language": "python",
      "name": "python3"
    },
    "language_info": {
      "codemirror_mode": {
        "name": "ipython",
        "version": 3
      },
      "file_extension": ".py",
      "mimetype": "text/x-python",
      "name": "python",
      "nbconvert_exporter": "python",
      "pygments_lexer": "ipython3",
      "version": "3.8.3"
    },
    "colab": {
      "name": "Sesion_5_Dependiendo_De.ipynb",
      "provenance": [],
      "collapsed_sections": []
    }
  },
  "cells": [
    {
      "cell_type": "markdown",
      "metadata": {
        "id": "zowGH6Ah--2L",
        "colab_type": "text"
      },
      "source": [
        "# Fundamentos de Programación con Python\n",
        "\n",
        "Estos Notebooks fueron creados por profesores y diseñadores de contenido de la Universidad del Norte, en Barranquilla - Colombia.\n",
        "\n",
        "Todos estos materiales cuentan con una licencia <b>Creative Commons</b> de libre uso con atribución.\n",
        "\n",
        "## Dependiendo De\n",
        "\n",
        "En Python no existe la estructura Dependiendo De como la vimos en pseudo-código. En otros lenguajes, como en Java, esta estructura se llama Switch-case, pero acá no fue definida dentro del lenguaje.\n",
        "\n",
        "Sin embargo, si quisiéramos tener algo que nos permita hacer lo mismo que la estructura Dependiendo De podemnos crear un diccionario de datos. En este caso, al lado izquierdo definimos la clave(con la que validamos los valores) y al derecho el valor a retornar por cada clave.\n",
        "\n",
        "Miremos un ejemplo con los días de la semana."
      ]
    },
    {
      "cell_type": "code",
      "metadata": {
        "id": "EE8dlDMs--2M",
        "colab_type": "code",
        "colab": {},
        "outputId": "9253cc0e-c97c-4250-9c10-aa889dd37809"
      },
      "source": [
        "dia = {\n",
        "    1 : \"Lunes\",\n",
        "    2 : \"Martes\",\n",
        "    3 : \"Miercoles\",\n",
        "    4 : \"Jueves\",\n",
        "    5 : \"Viernes\",\n",
        "    6 : \"Sabado\",\n",
        "    7 : \"Domingo\"\n",
        "}\n",
        "\n",
        "dia.get(5)"
      ],
      "execution_count": null,
      "outputs": [
        {
          "output_type": "execute_result",
          "data": {
            "text/plain": [
              "'Viernes'"
            ]
          },
          "metadata": {
            "tags": []
          },
          "execution_count": 5
        }
      ]
    },
    {
      "cell_type": "markdown",
      "metadata": {
        "id": "inn4PJ3A--2Q",
        "colab_type": "text"
      },
      "source": [
        "### Actividad 1\n",
        "\n",
        "Vamos a elaborar un algoritmo que permita ingresar un número entero (1 a 10), y muestre su equivalente en romano usando un diccionario como lo definimos anteriormente. "
      ]
    },
    {
      "cell_type": "code",
      "metadata": {
        "id": "AiSiOMye--2Q",
        "colab_type": "code",
        "colab": {
          "base_uri": "https://localhost:8080/",
          "height": 68
        },
        "outputId": "abf2b03c-c04d-46a3-8ad1-81e318b9f63a"
      },
      "source": [
        "romanos = {1 : \"I\", 2 : \"II\", 3 : \"III\", 4 : \"IV\", 5 : \"V\", 6 : \"VI\", 7 : \"VII\", 8 : \"VII\", 9 : \"IX\", 10: \"X\"}\n",
        "print(\"Digite un numero\")\n",
        "num = int(input())\n",
        "if num == 1:\n",
        "  print(romanos.get(1))\n",
        "elif num == 2:\n",
        "  print(romanos.get(2))\n",
        "elif num == 3:\n",
        "  print(romanos.get(3))\n",
        "elif num == 4:\n",
        "  print(romanos.get(4))\n",
        "elif num == 5:\n",
        "  print(romanos.get(5))\n",
        "elif num == 6:\n",
        "  print(romanos.get(6))\n",
        "elif num == 7:\n",
        "  print(romanos.get(7))\n",
        "elif num == 8:\n",
        "  print(romanos.get(8))\n",
        "elif num == 9:\n",
        "  print(romanos.get(9))\n",
        "elif num == 10:\n",
        "  print(romanos.get(10))\n",
        "else:\n",
        "  print(\"Numero fuera de rango\")"
      ],
      "execution_count": 6,
      "outputs": [
        {
          "output_type": "stream",
          "text": [
            "Digite un numero\n",
            "9\n",
            "IX\n"
          ],
          "name": "stdout"
        }
      ]
    },
    {
      "cell_type": "markdown",
      "metadata": {
        "id": "1F8GiAlx--2U",
        "colab_type": "text"
      },
      "source": [
        "### Actividad 2\n",
        "\n",
        "Juan y María están haciendo un programa para jugar a los dados con las siguientes reglas:\n",
        "\n",
        "    Si sale 1, vuelven a lanzar.\n",
        "    Si sale 6, quedan empatados.\n",
        "    Si sale 2 ó 3 gana Juan.\n",
        "    Si sale 4 ó 5 gana María.\n",
        "\n",
        "Escribe el programa en Python utilizando el condicional Dependiendo De para escribir el mensaje según el resultado de lanzar el dado.\n",
        "\n",
        "Vamos a intentar obtener el número de forma aleatorio usando la función randint de la librería random."
      ]
    },
    {
      "cell_type": "code",
      "metadata": {
        "id": "cOkG0S9j--2V",
        "colab_type": "code",
        "colab": {
          "base_uri": "https://localhost:8080/",
          "height": 51
        },
        "outputId": "f9945b1c-cbd0-4a14-90bc-c560c60b295e"
      },
      "source": [
        "import random\n",
        "\n",
        "numero = random.randint(1,6)\n",
        "\n",
        "dado = {1:\"Vuelve a lanzar\", 2:\"Quedan empatados\", 3:\"Gana Juan\", 4:\"Gana Maria\"}\n",
        "\n",
        "print(numero)\n",
        "if numero==1:\n",
        "  print(dado.get(1))\n",
        "if numero==2 or numero==3:\n",
        "  print(dado.get(3))\n",
        "if numero==4 or numero==5:\n",
        "  print(dado.get(4))\n",
        "if numero==6:\n",
        "  print(dado.get(2))\n"
      ],
      "execution_count": 12,
      "outputs": [
        {
          "output_type": "stream",
          "text": [
            "6\n",
            "Quedan empatados\n"
          ],
          "name": "stdout"
        }
      ]
    },
    {
      "cell_type": "markdown",
      "metadata": {
        "id": "gTNHJMBE--2Y",
        "colab_type": "text"
      },
      "source": [
        "### Actividad 3\n",
        "\n",
        "Ahora vamos a combinar los condicionales que hemos visto en el siguiente ejercicio (Si-Sino-Si-Finsi y DependiendoDe). \n",
        "\n",
        "Vamos a elaborar un algoritmo que solicite un número entero y muestre un mensaje indicando la vocal correspondiente, considerando que la vocal A es 1. Y adicionalmente imprima una palabra que comience por esa vocal.\n"
      ]
    },
    {
      "cell_type": "code",
      "metadata": {
        "id": "SdljUZwJ--2Y",
        "colab_type": "code",
        "colab": {
          "base_uri": "https://localhost:8080/",
          "height": 68
        },
        "outputId": "e5dbbd74-f66a-4521-b536-48296c4bd37a"
      },
      "source": [
        "vocal = {1:\"A\", 2:\"E\", 3:\"I\", 4:\"O\", 5:\"U\"}\n",
        "palabra = {1:\"Avion\", 2:\"Energia\", 3:\"Inteligencia\", 4:\"Orgullo\", 5:\"Universidad\"}\n",
        "print(\"Digite un numero\")\n",
        "num = int(input())\n",
        "if num==1:\n",
        "  print(\"El numero \", num,\" tiene la vocal \",vocal.get(1),\" de \", palabra.get(1))\n",
        "elif num==2:\n",
        "  print(\"El numero \", num,\" tiene la vocal \",vocal.get(2),\" de \", palabra.get(2))\n",
        "elif num==3:\n",
        "  print(\"El numero \", num,\" tiene la vocal \",vocal.get(3),\" de \", palabra.get(3))\n",
        "elif num==4:\n",
        "  print(\"El numero \", num,\" tiene la vocal \",vocal.get(4),\" de \", palabra.get(4))\n",
        "elif num==5:\n",
        "  print(\"El numero \", num,\" tiene la vocal \",vocal.get(5),\" de \", palabra.get(5))\n",
        "else:\n",
        "  print(\"Numero fuera de rango\")"
      ],
      "execution_count": 22,
      "outputs": [
        {
          "output_type": "stream",
          "text": [
            "Digite un numero\n",
            "1\n",
            "El numero  1  tiene la vocal  A  de  Avion\n"
          ],
          "name": "stdout"
        }
      ]
    },
    {
      "cell_type": "markdown",
      "metadata": {
        "id": "A-uvGRyv--2b",
        "colab_type": "text"
      },
      "source": [
        "## Reto de la semana\n",
        "\n",
        "Esta semana, el objetivo es diseñar un menú con las siguientes 4 funciones:\n",
        "\n",
        "1.  Leer un número de 4 dígitos, mostrar el dígito mayor e informar si es par o impar.\n",
        "2.  Leer dos números de 3 dígitos cada uno, formar un tercer número con el mayor del primero y el menor del segundo.\n",
        "3.  Leer un número de 3 dígitos y formar el mayor número posible con sus cifras.\n",
        "4. Salir\n",
        "\n",
        "## Retos del día\n",
        "\n",
        "Consideraciones para los retos del día:\n",
        "\n",
        "    1. El archivo con los retos del día puede ser descargado en la página del curso. Vayan a la sesión indiciada y busquen la opción Retos del día.\n",
        "    2. El archivo lo deben subir a Mybinder para poder manipularlo\n",
        "    3. Deben guardar el archivo a subir como retos.ipnyb - OJO, sino tiene este nombre no ejecutará y no podrá revisarse automáticamente"
      ]
    }
  ]
}