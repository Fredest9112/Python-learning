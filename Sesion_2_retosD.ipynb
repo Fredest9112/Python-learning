{
  "nbformat": 4,
  "nbformat_minor": 0,
  "metadata": {
    "kernelspec": {
      "display_name": "Python 3",
      "language": "python",
      "name": "python3"
    },
    "language_info": {
      "codemirror_mode": {
        "name": "ipython",
        "version": 3
      },
      "file_extension": ".py",
      "mimetype": "text/x-python",
      "name": "python",
      "nbconvert_exporter": "python",
      "pygments_lexer": "ipython3",
      "version": "3.8.3"
    },
    "colab": {
      "name": "Sesion_2_retos.ipynb",
      "provenance": [],
      "collapsed_sections": []
    }
  },
  "cells": [
    {
      "cell_type": "markdown",
      "metadata": {
        "id": "wASx7oFXBfUZ",
        "colab_type": "text"
      },
      "source": [
        "## Retos del día\n",
        "\n",
        "Los retos del día están diseñados para permitirte practicar los conceptos aprendidos y empezar a explorar el lenguaje de programación. \n",
        "\n",
        "Recuerda tomar el tiempo en analizar y planear la solución antes de empezar a programar!\n",
        "\n",
        "### Reto del día 1\n",
        "\n",
        "Escribe un algoritmo que lea un número de 4 dígitos y lo invierta."
      ]
    },
    {
      "cell_type": "code",
      "metadata": {
        "id": "4WkOfcH6BfUb",
        "colab_type": "code",
        "colab": {
          "base_uri": "https://localhost:8080/",
          "height": 69
        },
        "outputId": "31381180-6dbe-4047-f265-c995344ff9e8"
      },
      "source": [
        "num1 = int(input(\"Digite un numero de 4 digitos \"))\n",
        "un1 = num1%10\n",
        "num1 = num1//10\n",
        "dec1 = num1%10\n",
        "num1 = num1//10\n",
        "cen1 = num1%10\n",
        "mil1 = num1//10\n",
        "print(mil1 + cen1*10 + dec1*100 + un1*1000)\n",
        "\n",
        "def reto1(x):\n",
        "  x=str(x)\n",
        "  x1=x[::-1]\n",
        "  return x1\n",
        "reto1(1234)\n",
        "\n",
        "def reto1(x):\n",
        "  x=str(x)\n",
        "  x1=x[3]+x[2]+x[1]+x[0]\n",
        "  return x1\n",
        "reto1(1234)"
      ],
      "execution_count": 4,
      "outputs": [
        {
          "output_type": "stream",
          "text": [
            "Digite un numero de 4 digitos 1234\n",
            "4321\n"
          ],
          "name": "stdout"
        },
        {
          "output_type": "execute_result",
          "data": {
            "application/vnd.google.colaboratory.intrinsic+json": {
              "type": "string"
            },
            "text/plain": [
              "'4321'"
            ]
          },
          "metadata": {
            "tags": []
          },
          "execution_count": 4
        }
      ]
    },
    {
      "cell_type": "markdown",
      "metadata": {
        "id": "ohCGxPGPBfUh",
        "colab_type": "text"
      },
      "source": [
        "### Reto del día 2\n",
        "\n",
        "En una alcancía se tienen monedas de 50, 100, 200 y 500 pesos. Escriba el algoritmo que permita averiguar cuánto dinero hay en la alcancía. En este caso, pregunta al usuario que ingrese el número de monedas de cada denominación.\n"
      ]
    },
    {
      "cell_type": "code",
      "metadata": {
        "id": "9Qch9DpgBfUi",
        "colab_type": "code",
        "colab": {
          "base_uri": "https://localhost:8080/",
          "height": 34
        },
        "outputId": "4f9230ba-6e06-45ee-8e73-8ec37513a9ea"
      },
      "source": [
        "def reto2(x50,x100,x200,x500):\n",
        "    # Escribe tu código aquí. Manten la indentación!!\n",
        "    resultado = 50*x50 + 100*x100 + 200*x200 + 500*x500\n",
        "    return resultado # Reemplaza 0 por la variable que tiene el resultado\n",
        "\n",
        "reto2(1,2,1,2)"
      ],
      "execution_count": 7,
      "outputs": [
        {
          "output_type": "execute_result",
          "data": {
            "text/plain": [
              "1450"
            ]
          },
          "metadata": {
            "tags": []
          },
          "execution_count": 7
        }
      ]
    },
    {
      "cell_type": "markdown",
      "metadata": {
        "id": "OtQJLhelBfUn",
        "colab_type": "text"
      },
      "source": [
        "### Reto del día 3\n",
        "Escribe el código para obtener la raiz cuadrada de x, asigna el resultado a una variable b y redondea este valor a cero decimales. Imprime b\n"
      ]
    },
    {
      "cell_type": "code",
      "metadata": {
        "id": "lEVCJqtxBfUo",
        "colab_type": "code",
        "colab": {
          "base_uri": "https://localhost:8080/",
          "height": 34
        },
        "outputId": "26af1d0e-0088-4936-9396-580862c76398"
      },
      "source": [
        "def reto3(x):\n",
        "    # Escribe tu código aquí. Manten la indentación!!\n",
        "    b = x**(1/2)\n",
        "    b = b//1\n",
        "    return b # Reemplaza 0 por la variable que tiene el resultado\n",
        "\n",
        "reto3(25)"
      ],
      "execution_count": 9,
      "outputs": [
        {
          "output_type": "execute_result",
          "data": {
            "text/plain": [
              "5.0"
            ]
          },
          "metadata": {
            "tags": []
          },
          "execution_count": 9
        }
      ]
    },
    {
      "cell_type": "markdown",
      "metadata": {
        "id": "SA0jdI2WBfUs",
        "colab_type": "text"
      },
      "source": [
        "### Reto del día 4\n",
        "La ejecución del siguiente código puede ser incorrecta si el usuario no ingresa el numero de la forma correcta. Modifica el código para que devuelva la suma de las dos variables\n"
      ]
    },
    {
      "cell_type": "code",
      "metadata": {
        "id": "W836vvDABfUt",
        "colab_type": "code",
        "colab": {
          "base_uri": "https://localhost:8080/",
          "height": 34
        },
        "outputId": "6d684e14-bd40-4b57-993e-d6ea31b81fc0"
      },
      "source": [
        "def reto4(x,y):\n",
        "\n",
        "    resultado = int(x)+int(y)\n",
        "    \n",
        "    return resultado\n",
        "\n",
        "reto4(\"4\",\"4\")"
      ],
      "execution_count": 12,
      "outputs": [
        {
          "output_type": "execute_result",
          "data": {
            "text/plain": [
              "8"
            ]
          },
          "metadata": {
            "tags": []
          },
          "execution_count": 12
        }
      ]
    }
  ]
}