{
  "nbformat": 4,
  "nbformat_minor": 0,
  "metadata": {
    "colab": {
      "name": "tipodatos.ipynb",
      "provenance": []
    },
    "kernelspec": {
      "name": "python3",
      "display_name": "Python 3"
    }
  },
  "cells": [
    {
      "cell_type": "code",
      "metadata": {
        "id": "kS5stMqUmJKC",
        "outputId": "ab0bae29-8958-4951-d584-1eddb93b3bcf",
        "colab": {
          "base_uri": "https://localhost:8080/",
          "height": 35
        }
      },
      "source": [
        "#Tipo de dato Entero o Largo\n",
        "numero = 15\n",
        "print (numero, type(numero))"
      ],
      "execution_count": null,
      "outputs": [
        {
          "output_type": "stream",
          "text": [
            "15 <class 'int'>\n"
          ],
          "name": "stdout"
        }
      ]
    },
    {
      "cell_type": "code",
      "metadata": {
        "id": "anspoltAn4lD",
        "outputId": "62560f22-240c-469d-f80b-488e52ecb214",
        "colab": {
          "base_uri": "https://localhost:8080/",
          "height": 35
        }
      },
      "source": [
        "#Tipo de dato flotante\n",
        "numero = 15.8\n",
        "print(numero, type(numero))"
      ],
      "execution_count": null,
      "outputs": [
        {
          "output_type": "stream",
          "text": [
            "15.8 <class 'float'>\n"
          ],
          "name": "stdout"
        }
      ]
    },
    {
      "cell_type": "code",
      "metadata": {
        "id": "HLHyJA5JoDtY",
        "outputId": "b57f523d-d6fe-47b3-b81f-b73f60963e4f",
        "colab": {
          "base_uri": "https://localhost:8080/",
          "height": 35
        }
      },
      "source": [
        "#Tipo dato complejo\n",
        "numero = 4 + 6j\n",
        "print(numero, type(numero))"
      ],
      "execution_count": null,
      "outputs": [
        {
          "output_type": "stream",
          "text": [
            "(4+6j) <class 'complex'>\n"
          ],
          "name": "stdout"
        }
      ]
    },
    {
      "cell_type": "code",
      "metadata": {
        "id": "YwcJ8ezdoXTg",
        "outputId": "413931c1-3b46-4ad0-c052-5df13050e58f",
        "colab": {
          "base_uri": "https://localhost:8080/",
          "height": 35
        }
      },
      "source": [
        "#Tipo de dato texto\n",
        "mensaje = \"Bienvenidos\"\n",
        "print(mensaje, type(mensaje))"
      ],
      "execution_count": null,
      "outputs": [
        {
          "output_type": "stream",
          "text": [
            "Bienvenidos <class 'str'>\n"
          ],
          "name": "stdout"
        }
      ]
    },
    {
      "cell_type": "code",
      "metadata": {
        "id": "uX7pGPlKokU_",
        "outputId": "dff5299f-4409-4dea-84e7-205232f2165a",
        "colab": {
          "base_uri": "https://localhost:8080/",
          "height": 35
        }
      },
      "source": [
        "#Tipo de dato booleano\n",
        "numero =  3 == 4\n",
        "print(numero, type(numero))"
      ],
      "execution_count": null,
      "outputs": [
        {
          "output_type": "stream",
          "text": [
            "False <class 'bool'>\n"
          ],
          "name": "stdout"
        }
      ]
    }
  ]
}