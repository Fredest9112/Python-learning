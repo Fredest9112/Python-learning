{
  "nbformat": 4,
  "nbformat_minor": 0,
  "metadata": {
    "kernelspec": {
      "display_name": "Python 3",
      "language": "python",
      "name": "python3"
    },
    "language_info": {
      "codemirror_mode": {
        "name": "ipython",
        "version": 3
      },
      "file_extension": ".py",
      "mimetype": "text/x-python",
      "name": "python",
      "nbconvert_exporter": "python",
      "pygments_lexer": "ipython3",
      "version": "3.8.3"
    },
    "colab": {
      "name": "Sesion_2_Variables_Algoritmos.ipynb",
      "provenance": [],
      "collapsed_sections": []
    }
  },
  "cells": [
    {
      "cell_type": "markdown",
      "metadata": {
        "id": "frKwhrym_B6T",
        "colab_type": "text"
      },
      "source": [
        "# Fundamentos de Programación con Python\n",
        "\n",
        "Estos Notebooks fueron creados por profesores y diseñadores de contenido de la Universidad del Norte, en Barranquilla - Colombia.\n",
        "\n",
        "Todos estos materiales cuentan con una licencia <b>Creative Commons</b> de libre uso con atribución.\n",
        "\n",
        "## Estructuras algorítmicas\n",
        "\n",
        "Vamos a trabajar en modificar el algoritmo y pasarlo a Python.\n",
        "\n",
        "Recordemos\n",
        "\n",
        "Inicio\n",
        "\n",
        "    a ⇐ 2 \n",
        "    b ⇐ 3\n",
        "    c ⇐ 4\n",
        "    x1 ⇐ (-b + ((b^2)-(4*a*c))^(½))/2\n",
        "    x2 ⇐ (-b - ((b^2)-(4*a*c))^(½))/2\n",
        "    escribir x1\n",
        "    escribir x2\n",
        "Fin\n",
        "\n",
        "\n",
        "Además de las operaciones matemáticas básicas que vimos en la sesión anterior, también podemos importar otras operaciones o funciones desde una \"librería\" (aunque la traducción correcta de library es biblioteca, en español se ha vuelto más común hablar de librerías).\n",
        "\n",
        "Por ejemplo, podemos usar la función raíz cuadrada sqrt importando math."
      ]
    },
    {
      "cell_type": "code",
      "metadata": {
        "id": "qEtBHsWH_B6V",
        "colab_type": "code",
        "colab": {}
      },
      "source": [
        "import math\n",
        "#math.sqrt(x)\n"
      ],
      "execution_count": 1,
      "outputs": []
    },
    {
      "cell_type": "markdown",
      "metadata": {
        "id": "5qQhVk5l_B6f",
        "colab_type": "text"
      },
      "source": [
        "Puedes ver todas las funciones que tiene esta librería y cómo se usan, con los siguientes comandos:"
      ]
    },
    {
      "cell_type": "code",
      "metadata": {
        "id": "W5jTH193_B6g",
        "colab_type": "code",
        "colab": {},
        "outputId": "c20d16b0-45ce-43ab-c79f-22d394534918"
      },
      "source": [
        "#dir(math)           # Lista de funciones\n",
        "#help(math)          # Ayuda sobre la librería math\n",
        "help(math.sqrt)     # Ayuda sobre la función sqrt"
      ],
      "execution_count": null,
      "outputs": [
        {
          "output_type": "stream",
          "text": [
            "Help on built-in function sqrt in module math:\n",
            "\n",
            "sqrt(x, /)\n",
            "    Return the square root of x.\n",
            "\n"
          ],
          "name": "stdout"
        }
      ]
    },
    {
      "cell_type": "markdown",
      "metadata": {
        "id": "Ak3AA8a0_B6o",
        "colab_type": "text"
      },
      "source": [
        "Volvamos al algoritmo entonces. En la prueba de escritorio, determinamos que (b^2)-(4*a*c) debe ser mayor a 0 para poder obtener la raiz cuadrada. Aquí vamos a modificar los valores para ejecutar el código. Mas adelante, con condicionales podremos evaluar los valores durante la ejecución e imprimir un mensaje en caso de error.                                                                                    "
      ]
    },
    {
      "cell_type": "code",
      "metadata": {
        "id": "cDK2TnlJ_B6p",
        "colab_type": "code",
        "colab": {},
        "outputId": "faa61fa3-0760-41d3-c844-906ab459b0e7"
      },
      "source": [
        "import math\n",
        "a = 2\n",
        "b = 3\n",
        "c = 1\n",
        "x1 = (-b + math.sqrt((b**2)-(4*a*c)))/2*a\n",
        "x2 = (-b - math.sqrt((b**2)-(4*a*c)))/2*a\n",
        "print(x1)\n",
        "print(x2)"
      ],
      "execution_count": null,
      "outputs": [
        {
          "output_type": "stream",
          "text": [
            "-2.0\n",
            "-4.0\n"
          ],
          "name": "stdout"
        }
      ]
    },
    {
      "cell_type": "markdown",
      "metadata": {
        "id": "bfqOd3Dp_B6x",
        "colab_type": "text"
      },
      "source": [
        "### Actividad 1\n",
        "\n",
        "Los tipos de datos son muy importantes en programación. Aunque Python no exige declarar un tipo de variable y permite cambiarlo (lo cual no ocurre en otros lenguajes de programación), cada variable si asume un tipo según el dato que tenga almacenado. Por ejemplo:\n"
      ]
    },
    {
      "cell_type": "code",
      "metadata": {
        "id": "YYtL-8l-_B6z",
        "colab_type": "code",
        "colab": {}
      },
      "source": [
        "a = 5     # Esto es un Entero (No tiene decimales)\n",
        "b = 5.3   # Esto es un flotante (Un número que puede tener comas decimals)\n",
        "c = '5'   # Esto es un texto, y por ende, no podemos hacer operaciones matemáticas con c"
      ],
      "execution_count": null,
      "outputs": []
    },
    {
      "cell_type": "markdown",
      "metadata": {
        "id": "rkJHs7zP_B69",
        "colab_type": "text"
      },
      "source": [
        "Usando la función type(), obten el tipo de dato de las variables a, b y c:"
      ]
    },
    {
      "cell_type": "code",
      "metadata": {
        "id": "bm5E-zmT_B6_",
        "colab_type": "code",
        "colab": {
          "base_uri": "https://localhost:8080/",
          "height": 34
        },
        "outputId": "1d3251b0-f891-448f-acae-7fbda86fbf78"
      },
      "source": [
        "a = \"yo\"\n",
        "type(a)"
      ],
      "execution_count": 6,
      "outputs": [
        {
          "output_type": "execute_result",
          "data": {
            "text/plain": [
              "str"
            ]
          },
          "metadata": {
            "tags": []
          },
          "execution_count": 6
        }
      ]
    },
    {
      "cell_type": "markdown",
      "metadata": {
        "id": "6S6I1-Nx_B7G",
        "colab_type": "text"
      },
      "source": [
        "### Actividad 2\n",
        "\n",
        "Ahora, practiquemos nuevamente la estructura algorítmica y recordemos el uso de tipos de datos. \n",
        "\n",
        "Juan y Pedro acostumbran jugar un juego de adivinar un número. En el juego es permitido dar tres pistas p1 p2 p3. Después de muchos intentos Pedro descubre la fórmula con la que Juan crea el número con las pistas dadas, y es la siguiente:\n",
        "\n",
        "    p1 + p3 ∗ p2 − (p1 + p2 ∗ 5 + 1) / (p2 + p1/2) + p3\n",
        "\n",
        "Si la pista que da Juan es 2, 1 y 4, ¿cuál es el número que debería decir Pedro para ganar? Escribamos el código para recibir los valores y devolver el valor que Pedro debería decir.\n"
      ]
    },
    {
      "cell_type": "code",
      "metadata": {
        "id": "iWJNqFg-_B7H",
        "colab_type": "code",
        "colab": {
          "base_uri": "https://localhost:8080/",
          "height": 34
        },
        "outputId": "7c4d92ec-0e11-4886-bdbc-4c973d109831"
      },
      "source": [
        "p1 = 2\n",
        "p2 = 1\n",
        "p3 = 4\n",
        "pista = p1 + p3 * p2 - (p1 + p2 * 5 + 1) / (p2 + p1/2) + p3\n",
        "print(pista)"
      ],
      "execution_count": 11,
      "outputs": [
        {
          "output_type": "stream",
          "text": [
            "6.0\n"
          ],
          "name": "stdout"
        }
      ]
    },
    {
      "cell_type": "markdown",
      "metadata": {
        "id": "Essmjs6H_B7P",
        "colab_type": "text"
      },
      "source": [
        "## Reto de la semana\n",
        "\n",
        "Esta semana, el objetivo es diseñar un menú con las siguientes 4 funciones:\n",
        "\n",
        "1.  Leer un número de 4 dígitos, mostrar el dígito mayor e informar si es par o impar.\n",
        "2.  Leer dos números de 3 dígitos cada uno, formar un tercer número con el mayor del primero y el menor del segundo.\n",
        "3.  Leer un número de 3 dígitos y formar el mayor número posible con sus cifras.\n",
        "4. Salir\n",
        "\n",
        "## Retos del día\n",
        "\n",
        "Consideraciones para los retos del día:\n",
        "\n",
        "    1. El archivo con los retos del día puede ser descargado en la página del curso. Vayan a la sesión indiciada y busquen la opción Retos del día.\n",
        "    2. El archivo lo deben subir a Mybinder para poder manipularlo\n",
        "    3. Deben guardar el archivo a subir como retos.ipnyb - OJO, sino tiene este nombre no ejecutará y no podrá revisarse automáticamente"
      ]
    }
  ]
}