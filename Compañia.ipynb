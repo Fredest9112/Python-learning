{
  "nbformat": 4,
  "nbformat_minor": 0,
  "metadata": {
    "colab": {
      "name": "Compañia.ipynb",
      "provenance": []
    },
    "kernelspec": {
      "name": "python3",
      "display_name": "Python 3"
    }
  },
  "cells": [
    {
      "cell_type": "markdown",
      "metadata": {
        "id": "vtGu93zozxrw"
      },
      "source": [
        "Coca Cola Company solicita que determine los días de vacaciones a los que tiene derecho un trabajador, tomando en cuenta las siguientes características:\n",
        "Existen 3 departamentos dentro de la empresa con sus respectivas claves:\n",
        "\n",
        "a.\tDepartamento de atención al cliente (Clave 1).\n",
        "b.\tDepartamento de logística (Clave 2).\n",
        "c.\tDepartamento de gerencia (Clave 3).\n",
        "\n",
        "Trabajadores con Clave 1 (atención al cliente).\n",
        "-\tCon  1 año de servicio, reciben 6 días de vacaciones.\n",
        "-\tCon 2 a 6 años de servicio, reciben 14 días de vacaciones.\n",
        "-\tCon 7 años o más  de servicio, reciben 20 días de vacaciones.\n",
        "\n",
        "Trabajadores con Clave 2 (logística).\n",
        "-\tCon  1 año de servicio, reciben 7 días de vacaciones.\n",
        "-\tCon 2 a 6 años de servicio, reciben 15 días de vacaciones.\n",
        "-\tCon 7 años o más  de servicio, reciben 22 días de vacaciones.\n",
        "\n",
        "Trabajadores con Clave 3 (gerencia).\n",
        "-\tCon  1 año de servicio, reciben 10 días de vacaciones.\n",
        "-\tCon 2 a 6 años de servicio, reciben 20 días de vacaciones.\n",
        "-\tCon 7 años o más  de servicio, reciben 30 días de vacaciones.\n",
        "-\t\n",
        "El sistema debe solicitar el “Nombre”, “Clave del departamento” y “antigüedad” de trabajador, posteriormente mostrar un mensaje que contenga el nombre del trabajador y los días de vacaciones a los que tiene derecho.\n"
      ]
    },
    {
      "cell_type": "code",
      "metadata": {
        "id": "UFnY_DMwzjj0"
      },
      "source": [
        ""
      ],
      "execution_count": null,
      "outputs": []
    }
  ]
}