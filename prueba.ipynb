{
  "nbformat": 4,
  "nbformat_minor": 0,
  "metadata": {
    "colab": {
      "name": "prueba.ipynb",
      "provenance": []
    },
    "kernelspec": {
      "name": "python3",
      "display_name": "Python 3"
    }
  },
  "cells": [
    {
      "cell_type": "code",
      "metadata": {
        "id": "OHybyzopMo1p"
      },
      "source": [
        "print(\"Sistema para calcular el promedio de un alumno\")\n",
        "nombre = input(\"Para comenzar, por favor ingrese su nombre: \")\n",
        "\n",
        "matematica = float(input(nombre + \" por favor ingrese su nota de matemática: \"))\n",
        "informatica = float(input(nombre + \" por favor ingrese su nota de informática: \"))\n",
        "quimica = float(input(nombre + \" por favor ingrese su nota de quimica: \"))\n",
        "\n",
        "promedio = (matematica + informatica + quimica)/3\n",
        "\n",
        "if promedio >=  6:\n",
        "  print(\"Felicidades \", nombre, \" aprobaste la materia con un promedio de: \", promedio)\n",
        "\n",
        "print(\"fin\")"
      ],
      "execution_count": null,
      "outputs": []
    },
    {
      "cell_type": "code",
      "metadata": {
        "id": "OM-t7WnlQvtt"
      },
      "source": [
        "print(\"Sistema para calcular el promedio de un alumno \\n\")\n",
        "nombre = input(\"Para comenzar, por favor ingrese su nombre: \")\n",
        "\n",
        "matematica = float(input(nombre + \" por favor ingrese su nota de matemática: \"))\n",
        "informatica = float(input(nombre + \" por favor ingrese su nota de informática: \"))\n",
        "quimica = float(input(nombre + \" por favor ingrese su nota de quimica: \"))\n",
        "\n",
        "promedio = (matematica + informatica + quimica)/3\n",
        "\n",
        "if promedio >= 6:\n",
        "  print(\"Felicidades \", nombre, \" aprobaste la materia con un promedio de: \", round(promedio,2))\n",
        "else:\n",
        "  print(\"Lo siento \", nombre, \" has reprobado la materia con un promedio de: \", round(promedio,2))\n",
        "print(\"fin\")"
      ],
      "execution_count": null,
      "outputs": []
    },
    {
      "cell_type": "code",
      "metadata": {
        "id": "yYFTR6xLWLxx"
      },
      "source": [
        "print (\"Presiona 1 para convertir un número a palabra\")\n",
        "print (\"Presiona 2 para convertir una palabra a número \\n\")\n",
        "\n",
        "opcion = int(input(\"Cuál es tu opción deseada? : \"))\n",
        "\n",
        "if opcion == 1: \n",
        "  print(\"\\n Conversor de número a palabra \\n\")\n",
        "\n",
        "  opcion_uno = int(input(\"Cuál es el número que deseas convertir a palabra?: \"))\n",
        "  if opcion_uno == 1:\n",
        "    print(\"El número es UNO\")\n",
        "  elif opcion_uno == 2:\n",
        "    print(\"El número es DOS\")\n",
        "  elif opcion_uno == 3:\n",
        "    print(\"El número es TRES\")\n",
        "  elif opcion_uno == 4:\n",
        "    print(\"El número es CUATRO\")\n",
        "  elif opcion_uno == 5:\n",
        "    print(\"El número es CINCO\")\n",
        "  else:\n",
        "    print(\"El número seleccionado no está registrado\")\n",
        "elif opcion == 2: \n",
        "  print(\"\\n Conversor de palabra a número \\n\")\n",
        "  opcion_dos = input(\"Cuál es la palabra que deseas convertir a número?: \")\n",
        "  if opcion_dos.lower() == \"uno\":\n",
        "    print(\"El número es 1\")\n",
        "  elif opcion_dos.lower() == \"dos\":\n",
        "    print(\"El número es 2\")\n",
        "  elif opcion_dos.lower() == \"tres\":\n",
        "    print(\"El número es 3\")\n",
        "  elif opcion_dos.lower() == \"cuatro\":\n",
        "    print(\"El número es 4\")\n",
        "  elif opcion_dos.lower() == \"cinco\":\n",
        "    print(\"El número es 5\")\n",
        "  else:\n",
        "    print(\"El número seleccionado no está registrado\")\n",
        "else:\n",
        "  print(\"La opción esogida no está disponible\")\n",
        "\n",
        "print(\"Fin\")\n"
      ],
      "execution_count": null,
      "outputs": []
    },
    {
      "cell_type": "code",
      "metadata": {
        "id": "AB4d0I7WwX9u",
        "outputId": "8796391d-3ad5-4451-af78-9ccc78104b5f",
        "colab": {
          "base_uri": "https://localhost:8080/",
          "height": 68
        }
      },
      "source": [
        "n1 = float(input(\"Número 1:\"))\n",
        "n2 = float(input(\"Número 2:\"))\n",
        "if n1>n2:\n",
        "    print(\"{0} es Mayor que {1}\".format(n1,n2))\n",
        "else:\n",
        "    print(\"{0} es Mayor que {1}\".format(n2,n1))"
      ],
      "execution_count": null,
      "outputs": [
        {
          "output_type": "stream",
          "text": [
            "Número 1:8\n",
            "Número 2:10\n",
            "10.0 es Mayor que 8.0\n"
          ],
          "name": "stdout"
        }
      ]
    }
  ]
}