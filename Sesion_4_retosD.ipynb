{
  "nbformat": 4,
  "nbformat_minor": 0,
  "metadata": {
    "kernelspec": {
      "display_name": "Python 3",
      "language": "python",
      "name": "python3"
    },
    "language_info": {
      "codemirror_mode": {
        "name": "ipython",
        "version": 3
      },
      "file_extension": ".py",
      "mimetype": "text/x-python",
      "name": "python",
      "nbconvert_exporter": "python",
      "pygments_lexer": "ipython3",
      "version": "3.8.3"
    },
    "colab": {
      "name": "Sesion__4_retos.ipynb",
      "provenance": [],
      "collapsed_sections": []
    }
  },
  "cells": [
    {
      "cell_type": "markdown",
      "metadata": {
        "id": "lMgTPEeWSgaL",
        "colab_type": "text"
      },
      "source": [
        "## Retos del día\n",
        "\n",
        "Los retos del día están diseñados para permitirte practicar los conceptos aprendidos y empezar a explorar el lenguaje de programación. \n",
        "\n",
        "Recuerda tomar el tiempo en analizar y planear la solución antes de empezar a programar!\n",
        "\n",
        "### Reto del día 1\n",
        "\n",
        "El sistema de calificación de notas, entrega una nota alfanumérica por cada nota numérica entregada (entre 1 y 100). Realiza un condicional que retorne la nota alfanumérica. \n",
        "\n",
        "<table>\n",
        "<thead><tr>\n",
        "<th>Nota</th>\n",
        "<th>Nota Alfanumérica</th>\n",
        "</tr>\n",
        "</thead>\n",
        "<tbody>\n",
        "<tr>\n",
        "<td><code> 0 - 59</code></td>\n",
        "<td>F</td>\n",
        "</tr>\n",
        "<tr>\n",
        "<td><code>Entre 60 y 69</code></td>\n",
        "<td>D</td>\n",
        "</tr>\n",
        "<tr>\n",
        "<td><code>70 - 79</code></td>\n",
        "<td>C</td>\n",
        "</tr>\n",
        "<tr>\n",
        "<td><code>80 - 89</code></td>\n",
        "<td>B</td>\n",
        "</tr>\n",
        "<tr>\n",
        "<td><code>90 - 100</code></td>\n",
        "<td>A</td>\n",
        "</tr>\n",
        "</tbody></table>"
      ]
    },
    {
      "cell_type": "code",
      "metadata": {
        "id": "FnzYtJsKSgaN",
        "colab_type": "code",
        "colab": {
          "base_uri": "https://localhost:8080/",
          "height": 35
        },
        "outputId": "b5e2103b-b762-4d9c-fc63-2f34b9bdcb13"
      },
      "source": [
        "def reto1(nota):\n",
        "   # Escribe tu código aquí. Manten la indentación!!\n",
        "    if 0 <= nota <=59:\n",
        "      return \"F\"\n",
        "    elif 60 <= nota <= 69:\n",
        "      return \"D\"\n",
        "    elif 70 <= nota <= 79:\n",
        "      return \"C\"\n",
        "    elif 80 <= nota <= 89:\n",
        "      return \"B\"\n",
        "    elif 90 <= nota <= 100:\n",
        "      return \"A\"\n",
        "    else:\n",
        "      return \"Nota fuera de rango\"\n",
        "    return nota # Reemplaza 0 por la variable que tiene el resultado\n",
        "\n",
        "reto1(64)"
      ],
      "execution_count": 8,
      "outputs": [
        {
          "output_type": "execute_result",
          "data": {
            "application/vnd.google.colaboratory.intrinsic+json": {
              "type": "string"
            },
            "text/plain": [
              "'D'"
            ]
          },
          "metadata": {
            "tags": []
          },
          "execution_count": 8
        }
      ]
    },
    {
      "cell_type": "markdown",
      "metadata": {
        "id": "405z0bUFSgaT",
        "colab_type": "text"
      },
      "source": [
        "### Reto del día 2\n",
        "\n",
        "La contaminación en las principales ciudades del país es algo que preocupa a los gobernantes.\n",
        "\n",
        "Las concentraciones de contaminantes se miden con un valor llamado el Índice de Calidad del Aire (ICA).\n",
        "                     <img src=\"https://openedx.edunext.co/asset-v1:MT-Uninorte+P1+2020+type@asset+block@ICA.PNG\" alt=\"ICA\"> \n",
        "                    \n",
        "Escribe un programa que capture el ICA y muestre el la clasificación según el valor ingresado"
      ]
    },
    {
      "cell_type": "code",
      "metadata": {
        "id": "1MmaeUdCSgaU",
        "colab_type": "code",
        "colab": {
          "base_uri": "https://localhost:8080/",
          "height": 35
        },
        "outputId": "1b18a947-cdf6-4859-bbe1-d5dbc7981640"
      },
      "source": [
        "def reto2(indice):\n",
        "    # Escribe tu código aquí. Manten la indentación!!\n",
        "    if 0<=indice<=50:\n",
        "      return \"Buena\"\n",
        "    if 51<=indice<=100:\n",
        "      return \"Regular\"\n",
        "    if 101<=indice<=150:\n",
        "      return \"Mala\"\n",
        "    if 151<=indice<=200:\n",
        "      return \"Mul mala\"\n",
        "    if indice>200:\n",
        "      return \"Extremadamente mala\"\n",
        "    return indice # Reemplaza 0 por la variable que tiene el resultado\n",
        "\n",
        "reto2(320) "
      ],
      "execution_count": 17,
      "outputs": [
        {
          "output_type": "execute_result",
          "data": {
            "application/vnd.google.colaboratory.intrinsic+json": {
              "type": "string"
            },
            "text/plain": [
              "'Extremadamente mala'"
            ]
          },
          "metadata": {
            "tags": []
          },
          "execution_count": 17
        }
      ]
    },
    {
      "cell_type": "markdown",
      "metadata": {
        "id": "pAW3Ch55SgaW",
        "colab_type": "text"
      },
      "source": [
        "### Reto del día 3 \n",
        "\n",
        "Crea un programa que le solicite dos nombres al usuario e imprima solo el primero en orden alfabetico."
      ]
    },
    {
      "cell_type": "code",
      "metadata": {
        "id": "CmMUpGyLSgaX",
        "colab_type": "code",
        "colab": {
          "base_uri": "https://localhost:8080/",
          "height": 35
        },
        "outputId": "d92f49f7-2331-4ea8-b00b-1a3f234ec7d3"
      },
      "source": [
        "def reto3(nombre1, nombre2):\n",
        "    # Escribe tu código aquí. Manten la indentación!!\n",
        "    if nombre1.lower() < nombre2.lower():\n",
        "      return nombre1\n",
        "    if nombre2.lower() < nombre1.lower():\n",
        "      return nombre2\n",
        "    else:\n",
        "      return \"Los nombres son iguales\"\n",
        "    \n",
        "reto3(\"Carlos\", \"carla\") "
      ],
      "execution_count": 14,
      "outputs": [
        {
          "output_type": "execute_result",
          "data": {
            "application/vnd.google.colaboratory.intrinsic+json": {
              "type": "string"
            },
            "text/plain": [
              "'carla'"
            ]
          },
          "metadata": {
            "tags": []
          },
          "execution_count": 14
        }
      ]
    }
  ]
}