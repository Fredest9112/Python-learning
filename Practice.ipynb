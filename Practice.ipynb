{
  "nbformat": 4,
  "nbformat_minor": 0,
  "metadata": {
    "colab": {
      "name": "Practice.ipynb",
      "provenance": [],
      "collapsed_sections": []
    },
    "kernelspec": {
      "name": "python3",
      "display_name": "Python 3"
    }
  },
  "cells": [
    {
      "cell_type": "code",
      "metadata": {
        "id": "OjE8ea5o_VfM",
        "colab_type": "code",
        "colab": {
          "base_uri": "https://localhost:8080/",
          "height": 187
        },
        "outputId": "070e71f2-0ec6-4aaa-cdbf-6f13d9bb2536"
      },
      "source": [
        "#numbEndin4\n",
        "back = 1\n",
        "while back==1:\n",
        "  print(\"Digite un numero entero positivo\")\n",
        "  x = int(input())\n",
        "  if x<=0:\n",
        "    print(\"Numero debe ser positivo\")\n",
        "  else:\n",
        "    x = x%10\n",
        "    if x==4:\n",
        "      print(\"El numero termina en 4\")\n",
        "    else:\n",
        "      print(\"El numero no termina en 4\")\n",
        "  print(\"Para continuar presione 1, para salir presione otro numero\")\n",
        "  back = int(input())"
      ],
      "execution_count": 13,
      "outputs": [
        {
          "output_type": "stream",
          "text": [
            "Digite un numero entero positivo\n",
            "123\n",
            "El numero no termina en 4\n",
            "Para continuar presione 1, para salir presione otro numero\n",
            "1\n",
            "Digite un numero entero positivo\n",
            "1234\n",
            "El numero termina en 4\n",
            "Para continuar presione 1, para salir presione otro numero\n",
            "2\n"
          ],
          "name": "stdout"
        }
      ]
    }
  ]
}