{
  "nbformat": 4,
  "nbformat_minor": 0,
  "metadata": {
    "colab": {
      "name": "funciones.ipynb",
      "provenance": []
    },
    "kernelspec": {
      "name": "python3",
      "display_name": "Python 3"
    }
  },
  "cells": [
    {
      "cell_type": "code",
      "metadata": {
        "id": "z3o63CQ7hidg",
        "outputId": "c18e4686-d5b7-4513-b983-a9fe07dc0f6a",
        "colab": {
          "base_uri": "https://localhost:8080/",
          "height": 34
        }
      },
      "source": [
        "# def nombre_funcion(parametros):\n",
        "#    instrucciones\n",
        "#    return (expresión) (Es opcional)\n",
        "\n",
        "def suma(num1, num2):\n",
        "  print (num1 + num2)\n",
        "\n",
        "suma(5,7)"
      ],
      "execution_count": null,
      "outputs": [
        {
          "output_type": "stream",
          "text": [
            "12\n"
          ],
          "name": "stdout"
        }
      ]
    },
    {
      "cell_type": "code",
      "metadata": {
        "id": "eVLLroxLlCTl",
        "outputId": "a398d8c1-4cd0-4afc-de10-f3ce0a215b08",
        "colab": {
          "base_uri": "https://localhost:8080/",
          "height": 35
        }
      },
      "source": [
        "def suma(num1, num2):\n",
        "  \n",
        "  resultado = num1 + num2\n",
        "  return resultado\n",
        "\n",
        "suma(\"8\",\"15\")"
      ],
      "execution_count": null,
      "outputs": [
        {
          "output_type": "execute_result",
          "data": {
            "application/vnd.google.colaboratory.intrinsic+json": {
              "type": "string"
            },
            "text/plain": [
              "'815'"
            ]
          },
          "metadata": {
            "tags": []
          },
          "execution_count": 3
        }
      ]
    },
    {
      "cell_type": "code",
      "metadata": {
        "id": "0MLxlRMGmH2U"
      },
      "source": [
        "def saludo ():\n",
        "  print (\"Hola cómo estas:? \")\n",
        "\n",
        "saludo()"
      ],
      "execution_count": null,
      "outputs": []
    },
    {
      "cell_type": "code",
      "metadata": {
        "id": "J-VyECtHmdc0"
      },
      "source": [
        "def saludo(nombre):\n",
        "  print (\"Hola\", nombre, \"cómo estás:? \")\n",
        "\n",
        "saludo(\"Carmen\")"
      ],
      "execution_count": null,
      "outputs": []
    },
    {
      "cell_type": "code",
      "metadata": {
        "id": "4chRyDCQnn6X"
      },
      "source": [
        "def saludo (nombre=\"\", apellido=\"\"):\n",
        "  print(\"Hola\",nombre, apellido, \"Cómo estás:? \")\n",
        "  return input()\n",
        "\n",
        "respuesta = saludo(\"carmen\")\n",
        "print (\"Entrada: \", respuesta)"
      ],
      "execution_count": null,
      "outputs": []
    }
  ]
}