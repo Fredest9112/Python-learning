{
  "nbformat": 4,
  "nbformat_minor": 0,
  "metadata": {
    "colab": {
      "name": "cadenas.ipynb",
      "provenance": []
    },
    "kernelspec": {
      "name": "python3",
      "display_name": "Python 3"
    }
  },
  "cells": [
    {
      "cell_type": "code",
      "metadata": {
        "id": "qphoC8-AAuGu",
        "colab_type": "code",
        "colab": {
          "base_uri": "https://localhost:8080/",
          "height": 35
        },
        "outputId": "7b001c26-d536-4dc1-9a63-ddee86a9fdbb"
      },
      "source": [
        "#Utilización del metodo len\n",
        "x = (\"45698\")\n",
        "len(x)\n"
      ],
      "execution_count": null,
      "outputs": [
        {
          "output_type": "execute_result",
          "data": {
            "text/plain": [
              "5"
            ]
          },
          "metadata": {
            "tags": []
          },
          "execution_count": 2
        }
      ]
    },
    {
      "cell_type": "code",
      "metadata": {
        "id": "MkxHIuSNO6Eb",
        "colab_type": "code",
        "colab": {
          "base_uri": "https://localhost:8080/",
          "height": 34
        },
        "outputId": "64ca0e81-9bd4-4c14-d001-e735eb9d6b7c"
      },
      "source": [
        "#Asignación\n",
        "mensaje = \"Bienvenidos a\"\n",
        "mensaje += \" \"\n",
        "mensaje += \"MisiónTic\"\n",
        "print(mensaje)"
      ],
      "execution_count": null,
      "outputs": [
        {
          "output_type": "stream",
          "text": [
            "Bienvenidos a MisiónTic\n"
          ],
          "name": "stdout"
        }
      ]
    },
    {
      "cell_type": "code",
      "metadata": {
        "id": "Ev9E1K6GQiwV",
        "colab_type": "code",
        "colab": {
          "base_uri": "https://localhost:8080/",
          "height": 34
        },
        "outputId": "2b00fedb-245f-4332-9fb5-56303604c19d"
      },
      "source": [
        "#Concatenación\n",
        "mensaje = \"Bienvenidos a \"\n",
        "espacio = \"\"\n",
        "mensaje2 = \"MisiónTic\"\n",
        "print(mensaje + espacio + mensaje2)"
      ],
      "execution_count": null,
      "outputs": [
        {
          "output_type": "stream",
          "text": [
            "Bienvenidos a MisiónTic\n"
          ],
          "name": "stdout"
        }
      ]
    },
    {
      "cell_type": "code",
      "metadata": {
        "id": "6jhBhcQlYKkC",
        "colab_type": "code",
        "colab": {
          "base_uri": "https://localhost:8080/",
          "height": 35
        },
        "outputId": "599344ab-6b51-4a0d-8cee-680f101bf1d4"
      },
      "source": [
        "#Busqueda\n",
        "mensaje = \"Bienvenidos a MisiónTic\"\n",
        "buscar = mensaje.find(\"MisiónTic\")\n",
        "print (buscar)"
      ],
      "execution_count": null,
      "outputs": [
        {
          "output_type": "stream",
          "text": [
            "14\n"
          ],
          "name": "stdout"
        }
      ]
    },
    {
      "cell_type": "code",
      "metadata": {
        "id": "3yYxSbP6ZR8h",
        "colab_type": "code",
        "colab": {
          "base_uri": "https://localhost:8080/",
          "height": 35
        },
        "outputId": "ae3bb850-55b0-4580-a9cc-5a95152305a9"
      },
      "source": [
        "#Extracción\n",
        "mensaje = \"Bienvenidos a MisiónTic\"\n",
        "extraer = mensaje[0:11]\n",
        "print(extraer)"
      ],
      "execution_count": null,
      "outputs": [
        {
          "output_type": "stream",
          "text": [
            "Bienvenido\n"
          ],
          "name": "stdout"
        }
      ]
    },
    {
      "cell_type": "code",
      "metadata": {
        "id": "dEQfjGfXahe_",
        "colab_type": "code",
        "colab": {
          "base_uri": "https://localhost:8080/",
          "height": 35
        },
        "outputId": "ac789adc-eaa4-4782-d7ed-e5a7f59f1c07"
      },
      "source": [
        "#Comparación\n",
        "mensaje1 = \"carMen\"\n",
        "mensaje2 = \"Carmen\"\n",
        "#mensaje1 == mensaje2\n",
        "mensaje1.lower() == mensaje2.lower()"
      ],
      "execution_count": null,
      "outputs": [
        {
          "output_type": "execute_result",
          "data": {
            "text/plain": [
              "True"
            ]
          },
          "metadata": {
            "tags": []
          },
          "execution_count": 9
        }
      ]
    },
    {
      "cell_type": "code",
      "metadata": {
        "id": "-_8vaNjzf-aZ",
        "colab_type": "code",
        "colab": {}
      },
      "source": [
        ""
      ],
      "execution_count": null,
      "outputs": []
    }
  ]
}