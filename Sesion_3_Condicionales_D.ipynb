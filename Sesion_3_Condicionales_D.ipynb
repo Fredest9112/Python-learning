{
  "nbformat": 4,
  "nbformat_minor": 0,
  "metadata": {
    "kernelspec": {
      "display_name": "Python 3",
      "language": "python",
      "name": "python3"
    },
    "language_info": {
      "codemirror_mode": {
        "name": "ipython",
        "version": 3
      },
      "file_extension": ".py",
      "mimetype": "text/x-python",
      "name": "python",
      "nbconvert_exporter": "python",
      "pygments_lexer": "ipython3",
      "version": "3.8.3"
    },
    "colab": {
      "name": "Sesion_3_Condicionales_1.ipynb",
      "provenance": [],
      "collapsed_sections": []
    }
  },
  "cells": [
    {
      "cell_type": "markdown",
      "metadata": {
        "id": "aRVSSuTL8iNy",
        "colab_type": "text"
      },
      "source": [
        "# Fundamentos de Programación con Python\n",
        "\n",
        "Estos Notebooks fueron creados por profesores y diseñadores de contenido de la Universidad del Norte, en Barranquilla - Colombia.\n",
        "\n",
        "Todos estos materiales cuentan con una licencia <b>Creative Commons</b> de libre uso con atribución.\n",
        "\n",
        "## Condicionales\n",
        "\n",
        "### Si-Sino-Finsi\n",
        "Recuerda que los condicionales nos permiten decidir qué instrucciones ejecutar y cuales no. El condicional Si-Sino-Finsi tiene la siguiente estructura:\n",
        "\n",
        "    Si (condición) Entonces\n",
        "        instrucción(es)\n",
        "    Sino\n",
        "        instrucción(es)\n",
        "    Fin Si\n",
        "\n",
        "En Python, esto se escribe un poco diferente y la estructura general depende de las tabulaciónes. Por ejemplo:"
      ]
    },
    {
      "cell_type": "code",
      "metadata": {
        "id": "UO0AzG388iN1",
        "colab_type": "code",
        "colab": {
          "base_uri": "https://localhost:8080/",
          "height": 68
        },
        "outputId": "38f83122-f9b6-4044-c7a6-fc3696327e7f"
      },
      "source": [
        "x = int(input(\"Por favor ingresa un número: \"))\n",
        "if x<0:\n",
        "    print(\"X es Negativo\")\n",
        "elif x>0:\n",
        "    print(\"X es positivo\")\n",
        "else:\n",
        "    print(\"X es igual a \", x)\n",
        "\n",
        "print('Esto ya está por fuera del condicional') #Esta fuera porque ya no hay tabulación"
      ],
      "execution_count": 3,
      "outputs": [
        {
          "output_type": "stream",
          "text": [
            "Por favor ingresa un número: 0\n",
            "X es igual a  0\n",
            "Esto ya está por fuera del condicional\n"
          ],
          "name": "stdout"
        }
      ]
    },
    {
      "cell_type": "markdown",
      "metadata": {
        "id": "44AUlWju8iOA",
        "colab_type": "text"
      },
      "source": [
        "¿Qué pasa si X es 0? ¿Imprimirá positivo o negativo? ¿Cómo podríamos arreglar este programa para que si X es cero, imprima \"X es cero\"?\n",
        "\n"
      ]
    },
    {
      "cell_type": "code",
      "metadata": {
        "id": "uPPVsivq8iOB",
        "colab_type": "code",
        "colab": {}
      },
      "source": [
        ""
      ],
      "execution_count": null,
      "outputs": []
    },
    {
      "cell_type": "markdown",
      "metadata": {
        "id": "xSAHu7Er8iOI",
        "colab_type": "text"
      },
      "source": [
        "### Operadores lógicos en Python\n",
        "\n",
        "Antes de pasar a usar condicionales, debemos entender como manejar los operadores lógicos (y/o) en Python para poder evaluar múltiples expresiones al tiempo.\n",
        "\n",
        "En Python, los operadores lógicos son las palabras en inglés: and y or. Estos operadores nos permiten analizar múltiples expresiones. \n",
        "\n",
        "<table>\n",
        "<thead><tr>\n",
        "<th>P    </th>\n",
        "<th>Q    </th>\n",
        "<th>P And Q</th>\n",
        "<th>P Or Q</th>\n",
        "</tr>\n",
        "</thead>\n",
        "<tbody>\n",
        "<tr>\n",
        "<td>V</td>\n",
        "<td>V</td>\n",
        "<td>V</td>\n",
        "<td>V</td>\n",
        "</tr>\n",
        "<tr>\n",
        "<td>V</td>\n",
        "<td>F</td>\n",
        "<td>F</td>\n",
        "<td>V</td>\n",
        "</tr>\n",
        "<tr>\n",
        "<td>F</td>\n",
        "<td>V</td>\n",
        "<td>F</td>\n",
        "<td>V</td>\n",
        "</tr>\n",
        "<tr>\n",
        "<td>F</td>\n",
        "<td>F</td>\n",
        "<td>F</td>\n",
        "<td>F</td>\n",
        "</tr>\n",
        "</tbody></table>\n",
        "\n",
        "Aquí está el código Python que evalúa las expresiones"
      ]
    },
    {
      "cell_type": "code",
      "metadata": {
        "id": "nvvgAkv18iOK",
        "colab_type": "code",
        "colab": {
          "base_uri": "https://localhost:8080/",
          "height": 85
        },
        "outputId": "9e56f157-2d51-4aaa-8de5-65dbea5954bc"
      },
      "source": [
        "print((True and True),(True or True))\n",
        "print((True and False),(True or False))\n",
        "print((False and True), (False or True))\n",
        "print((False and False),(False or False))\n"
      ],
      "execution_count": 4,
      "outputs": [
        {
          "output_type": "stream",
          "text": [
            "True True\n",
            "False True\n",
            "False True\n",
            "False False\n"
          ],
          "name": "stdout"
        }
      ]
    },
    {
      "cell_type": "markdown",
      "metadata": {
        "id": "wRKKnSpX8iOW",
        "colab_type": "text"
      },
      "source": [
        "### Actividad 1\n",
        "\n",
        "Primero, vamos a pasar los siguientes pseudo-códigos con condicionales a Python\n",
        "\n",
        "Inicio\n",
        "    \n",
        "    a = leer()\n",
        "    b = leer()\n",
        "       \n",
        "    Si a>2 Entonces\n",
        "        imprimir a\n",
        "    Fin Si\n",
        "    \n",
        "    Si b < 4 Entonces\n",
        "        imprimir a\n",
        "    Fin Si\n",
        "Fin"
      ]
    },
    {
      "cell_type": "code",
      "metadata": {
        "id": "2ucefOBw8iOX",
        "colab_type": "code",
        "colab": {
          "base_uri": "https://localhost:8080/",
          "height": 102
        },
        "outputId": "c7a66501-d6a1-4f39-87cd-8b3c14f062a2"
      },
      "source": [
        "print(\"Digite un numero\")\n",
        "a = int(input())\n",
        "print(\"Digite otro numero\")\n",
        "b = int(input())\n",
        "if a>2 or b<4:\n",
        "  print(a)\n",
        "else:\n",
        "  print(\"Numero fuera de rango\")\n"
      ],
      "execution_count": 7,
      "outputs": [
        {
          "output_type": "stream",
          "text": [
            "Digite un numero\n",
            "2\n",
            "Digite otro numero\n",
            "5\n",
            "Numero fuera de rango\n"
          ],
          "name": "stdout"
        }
      ]
    },
    {
      "cell_type": "markdown",
      "metadata": {
        "id": "fpgb-iso8iOf",
        "colab_type": "text"
      },
      "source": [
        "Dado que ambos condicionales imprimen a. Podríamos modificar el código para tener un sólo condicional usando los operadores lógicos?"
      ]
    },
    {
      "cell_type": "code",
      "metadata": {
        "id": "tCw_rcjg8iOg",
        "colab_type": "code",
        "colab": {}
      },
      "source": [
        ""
      ],
      "execution_count": null,
      "outputs": []
    },
    {
      "cell_type": "markdown",
      "metadata": {
        "id": "8P17AvhO8iOn",
        "colab_type": "text"
      },
      "source": [
        "### Actividad 2\n",
        "\n",
        "Los operadores lógicos pueden evaluar números y otros tipos de datos.\n",
        "\n",
        "Para ingresar al programa de medicina, el estudiante debe tener diploma de bachiller y ser mayor de 17 años. Creemos el código para validar esta información dadas las variables tieneDiploma (booleana) y edad (entero)."
      ]
    },
    {
      "cell_type": "code",
      "metadata": {
        "id": "xnG0c0qj8iOo",
        "colab_type": "code",
        "colab": {
          "base_uri": "https://localhost:8080/",
          "height": 136
        },
        "outputId": "e649b738-8c74-4c3c-89bd-e393a18548fa"
      },
      "source": [
        "print(\"Programa para validar ingreso a medicina\")\n",
        "print(\"Digite la edad del estudiante: \")\n",
        "edad = int(input())\n",
        "print(\"El estudiante posee diploma de bachiller? si o no: \")\n",
        "tienediploma = str(input())\n",
        "if edad > 17 and tienediploma.lower() == \"si\":\n",
        "  print(\"El estudiante tiene la edad requerida y titulo de bachiller, es admitido en el programa\")\n",
        "else:\n",
        "  if edad <= 17:\n",
        "    print(\"El estudiante no tiene la edad requerida, no es admitido\")\n",
        "  if tienediploma.lower() == \"no\":\n",
        "    print(\"El estudiante no tiene diploma de bachiller, no es admitido\")\n",
        "\n"
      ],
      "execution_count": 9,
      "outputs": [
        {
          "output_type": "stream",
          "text": [
            "Programa para validar ingreso a medicina\n",
            "Digite la edad del estudiante: \n",
            "17\n",
            "El estudiante posee diploma de bachiller? si o no: \n",
            "no\n",
            "El estudiante no tiene la edad requerida, no es admitido\n",
            "El estudiante no tiene diploma de bachiller, no es admitido\n"
          ],
          "name": "stdout"
        }
      ]
    },
    {
      "cell_type": "markdown",
      "metadata": {
        "id": "QqubHWLA8iOw",
        "colab_type": "text"
      },
      "source": [
        "### Actividad 3\n",
        "\n",
        "Recordemos uno de los retos de la primera sesión: \"Escribe el código para leer un número entero e imprime el último dígito.\"\n",
        "\n",
        "Ahora, vamos a modificar este código para imprimir SI si el último dígito es 4."
      ]
    },
    {
      "cell_type": "code",
      "metadata": {
        "id": "ApljJ2s18iOx",
        "colab_type": "code",
        "colab": {
          "base_uri": "https://localhost:8080/",
          "height": 68
        },
        "outputId": "3bfe91c5-b2c1-4440-c900-37524b77355d"
      },
      "source": [
        "print(\"Digite un numero\")\n",
        "num = int(input())\n",
        "res = num%10\n",
        "if res==4:\n",
        "  print(num)\n",
        "else:\n",
        "  print(\"numero fuera de rango\")\n",
        "  "
      ],
      "execution_count": 12,
      "outputs": [
        {
          "output_type": "stream",
          "text": [
            "Digite un numero\n",
            "123\n",
            "numero fuera de rango\n"
          ],
          "name": "stdout"
        }
      ]
    },
    {
      "cell_type": "markdown",
      "metadata": {
        "id": "_ynuGs138iO5",
        "colab_type": "text"
      },
      "source": [
        "## Reto de la semana\n",
        "\n",
        "Esta semana, el objetivo es diseñar un menú con las siguientes 4 funciones:\n",
        "\n",
        "1.  Leer un número de 4 dígitos, mostrar el dígito mayor e informar si es par o impar.\n",
        "2.  Leer dos números de 3 dígitos cada uno, formar un tercer número con el mayor del primero y el menor del segundo.\n",
        "3.  Leer un número de 3 dígitos y formar el mayor número posible con sus cifras.\n",
        "4. Salir\n",
        "\n",
        "## Retos del día\n",
        "\n",
        "Consideraciones para los retos del día:\n",
        "\n",
        "    1. El archivo con los retos del día puede ser descargado en la página del curso. Vayan a la sesión indiciada y busquen la opción Retos del día.\n",
        "    2. El archivo lo deben subir a Mybinder para poder manipularlo\n",
        "    3. Deben guardar el archivo a subir como retos.ipnyb - OJO, sino tiene este nombre no ejecutará y no podrá revisarse automáticamente"
      ]
    }
  ]
}